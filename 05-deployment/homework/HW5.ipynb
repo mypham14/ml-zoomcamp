{
 "cells": [
  {
   "cell_type": "markdown",
   "id": "d4ad49de-4139-4e15-9514-467dea7df63c",
   "metadata": {},
   "source": [
    "# Course Lead Scoring - Deployment\n",
    "\n",
    "We recommend using python 3.12 or 3.13 in this homework.\n",
    "\n",
    "In this homework, we're going to continue working with the lead scoring dataset. You don't need the dataset: we will provide the model for you.\n",
    "\n",
    "### Question 1\n",
    "- Install `uv`\n",
    "- What's the version of uv you installed?\n",
    "- Use `--version` to find out"
   ]
  },
  {
   "cell_type": "code",
   "execution_count": 13,
   "id": "05284423-9cf9-4adf-b579-c76bcac93429",
   "metadata": {},
   "outputs": [],
   "source": [
    "# Activate env\n",
    "# !conda activate py313"
   ]
  },
  {
   "cell_type": "code",
   "execution_count": 14,
   "id": "982264d7-b9c6-459e-a446-ebc7348ab5db",
   "metadata": {},
   "outputs": [],
   "source": [
    "# Check python version\n",
    "# !python --version"
   ]
  },
  {
   "cell_type": "code",
   "execution_count": 12,
   "id": "272067db-ce5c-412f-8373-b6b46578add3",
   "metadata": {},
   "outputs": [],
   "source": [
    "# Update python version\n",
    "# !conda install python=3.13"
   ]
  },
  {
   "cell_type": "code",
   "execution_count": 15,
   "id": "38a927bb-7974-4da4-96e5-9da59f09bc86",
   "metadata": {},
   "outputs": [],
   "source": [
    "# Install uv\n",
    "# !pip install uv"
   ]
  },
  {
   "cell_type": "code",
   "execution_count": 16,
   "id": "87ebff19-2f2c-46cb-b14e-b38d31ef4f17",
   "metadata": {},
   "outputs": [],
   "source": [
    "# Check uv version\n",
    "# !uv --version"
   ]
  },
  {
   "cell_type": "markdown",
   "id": "e45e26a2-377d-4b48-996a-73ccf5742416",
   "metadata": {},
   "source": [
    "## Initialize an empty uv project\n",
    "\n",
    "You should create an empty folder for homework and do it there.\n",
    "\n",
    "### Question 2\n",
    "- Use uv to install Scikit-Learn version 1.6.1\n",
    "- What's the first hash for Scikit-Learn you get in the lock file?\n",
    "- Include the entire string starting with sha256:, don't include quotes"
   ]
  },
  {
   "cell_type": "code",
   "execution_count": 17,
   "id": "1084b1b0-b570-424a-aa57-356ded9917d1",
   "metadata": {},
   "outputs": [],
   "source": [
    "# Create pyproject.toml, uv.lock and virtual environment venv\n",
    "# !uv init"
   ]
  },
  {
   "cell_type": "code",
   "execution_count": 18,
   "id": "c2f84f08-075b-42d6-b6c9-263940e786d8",
   "metadata": {},
   "outputs": [],
   "source": [
    "# Install package\n",
    "# !uv add scikit-learn==1.6.1"
   ]
  },
  {
   "cell_type": "code",
   "execution_count": 19,
   "id": "b47419da-6c5d-4efe-bbbe-209840947d01",
   "metadata": {},
   "outputs": [],
   "source": [
    "# Open file\n",
    "# !type uv.lock"
   ]
  },
  {
   "cell_type": "markdown",
   "id": "16529539-3f40-4e2b-8b55-cff949219514",
   "metadata": {},
   "source": [
    "## Models\n",
    "\n",
    "We have prepared a pipeline with a dictionary vectorizer and a model.\n",
    "\n",
    "It was trained (roughly) using this code:"
   ]
  },
  {
   "cell_type": "code",
   "execution_count": null,
   "id": "daa0adb9-6f03-49f7-bae9-76271d522dc7",
   "metadata": {},
   "outputs": [],
   "source": [
    "categorical = ['lead_source']\n",
    "numeric = ['number_of_courses_viewed', 'annual_income']\n",
    "\n",
    "df[categorical] = df[categorical].fillna('NA')\n",
    "df[numeric] = df[numeric].fillna(0)\n",
    "\n",
    "train_dict = df[categorical + numeric].to_dict(orient='records')\n",
    "\n",
    "pipeline = make_pipeline(\n",
    "    DictVectorizer(),\n",
    "    LogisticRegression(solver='liblinear')\n",
    ")\n",
    "\n",
    "pipeline.fit(train_dict, y_train)"
   ]
  },
  {
   "cell_type": "markdown",
   "id": "5eebf8a4-fd4b-49cf-905c-3898cc7b96b0",
   "metadata": {},
   "source": [
    "`Note: You don't need to train the model. This code is just for your reference.`\n",
    "\n",
    "And then saved with Pickle. Download it here.\n",
    "\n",
    "With wget:\n",
    "\n",
    "`wget https://github.com/DataTalksClub/machine-learning-zoomcamp/raw/refs/heads/master/cohorts/2025/05-deployment/pipeline_v1.bin`\n",
    "\n",
    "### Question 3\n",
    "\n",
    "Let's use the model!\n",
    "- Write a script for loading the pipeline with pickle\n",
    "- Score this record:\n",
    "`{\n",
    "    \"lead_source\": \"paid_ads\",\n",
    "    \"number_of_courses_viewed\": 2,\n",
    "    \"annual_income\": 79276.0\n",
    "}`\n",
    "\n",
    "What's the probability that this lead will convert?\n",
    "- 0.333\n",
    "- 0.533\n",
    "- 0.733\n",
    "- 0.933\n",
    "\n",
    "If you're getting errors when unpickling the files, check their checksum:\n",
    "\n",
    "`$ md5sum pipeline_v1.bin\n",
    "7d17d2e4dfbaf1e408e1a62e6e880d49 *pipeline_v1.bin`\n",
    "\n",
    "Answer: Run `python predict.py` and get `Probability of conversion: 0.5336072702798061`.\n",
    "\n",
    "### Question 4\n",
    "\n",
    "Now let's serve this model as a web service\n",
    "- Install FastAPI\n",
    "- Write FastAPI code for serving the model\n",
    "- Now score this client using `requests`:\n",
    "\n",
    "`url = \"YOUR_URL\"\n",
    "client = {\n",
    "    \"lead_source\": \"organic_search\",\n",
    "    \"number_of_courses_viewed\": 4,\n",
    "    \"annual_income\": 80304.0\n",
    "}\n",
    "requests.post(url, json=client).json()`\n",
    "\n",
    "What's the probability that this client will get a subscription?\n",
    "- 0.334\n",
    "- 0.534\n",
    "- 0.734\n",
    "- 0.934"
   ]
  },
  {
   "cell_type": "code",
   "execution_count": null,
   "id": "1a80aecc-0b15-497f-8071-58501c70351e",
   "metadata": {},
   "outputs": [],
   "source": [
    "# Install FastAPI\n",
    "!conda install fastapi uvicorn"
   ]
  },
  {
   "cell_type": "code",
   "execution_count": null,
   "id": "e70bc49b-480e-4f23-9536-085f775073f5",
   "metadata": {},
   "outputs": [],
   "source": [
    "# Run the server\n",
    "!uvicorn app:app --reload"
   ]
  },
  {
   "cell_type": "markdown",
   "id": "9bf0d6d7-56a1-4758-9fea-9dcd38c9664a",
   "metadata": {},
   "source": [
    "`Uvicorn running on http://127.0.0.1:8000`\n",
    "\n",
    "In a new prompt\n",
    "\n",
    "`curl -X POST \"http://127.0.0.1:8000/predict\" ^\n",
    "-H \"Content-Type: application/json\" ^\n",
    "-d \"{\\\"lead_source\\\": \\\"organic_search\\\", \\\"number_of_courses_viewed\\\": 4, \\\"annual_income\\\": 80304.0}\"`"
   ]
  },
  {
   "cell_type": "markdown",
   "id": "f6b9e28c-a98e-4d34-be38-1ebb619c755f",
   "metadata": {},
   "source": [
    "## Docker\n",
    "\n",
    "Install Docker. We will use it for the next two questions.\n",
    "\n",
    "For these questions, we prepared a base image: `agrigorev/zoomcamp-model:2025`. You'll need to use it (see Question 5 for an example).\n",
    "\n",
    "This image is based on `3.13.5-slim-bookworm` and has a pipeline with logistic regression (a different one) as well a dictionary vectorizer inside.\n",
    "\n",
    "This is how the Dockerfile for this image looks like:\n",
    "\n",
    "`FROM python:3.13.5-slim-bookworm\n",
    "WORKDIR /code\n",
    "COPY pipeline_v2.bin .`\n",
    "\n",
    "We already built it and then pushed it to `agrigorev/zoomcamp-model:2025`.\n",
    "\n",
    "`Note: You don't need to build this docker image, it's just for your reference.`\n",
    "\n",
    "### Question 5\n",
    "\n",
    "Download the base image `agrigorev/zoomcamp-model:2025`. You can easily make it by using docker pull command.\n",
    "\n",
    "So what's the size of this base image?\n",
    "- 45 MB\n",
    "- 121 MB\n",
    "- 245 MB\n",
    "- 330 MB\n",
    "\n",
    "You can get this information when running `docker images` - it'll be in the \"SIZE\" column.\n",
    "\n",
    "## Dockerfile\n",
    "\n",
    "Now create your own `Dockerfile` based on the image we prepared.\n",
    "\n",
    "It should start like that:\n",
    "\n",
    "`FROM agrigorev/zoomcamp-model:2025\n",
    "...add your stuff here`\n",
    "\n",
    "Now complete it:\n",
    "- Install all the dependencies from pyproject.toml\n",
    "- Copy your FastAPI script\n",
    "- Run it with uvicorn\n",
    "\n",
    "After that, you can build your docker image.\n",
    "\n",
    "### Question 6\n",
    "\n",
    "Let's run your docker container!\n",
    "\n",
    "After running it, score this client once again:\n",
    "\n",
    "`url = \"YOUR_URL\"\n",
    "client = {\n",
    "    \"lead_source\": \"organic_search\",\n",
    "    \"number_of_courses_viewed\": 4,\n",
    "    \"annual_income\": 80304.0\n",
    "}\n",
    "requests.post(url, json=client).json()`\n",
    "\n",
    "What's the probability that this lead will convert?\n",
    "- 0.39\n",
    "- 0.59\n",
    "- 0.79\n",
    "- 0.99"
   ]
  },
  {
   "cell_type": "code",
   "execution_count": null,
   "id": "2bd4cf04-885e-4aae-802f-530b9e0a6d69",
   "metadata": {},
   "outputs": [],
   "source": []
  }
 ],
 "metadata": {
  "kernelspec": {
   "display_name": "Python 3 (ipykernel)",
   "language": "python",
   "name": "python3"
  },
  "language_info": {
   "codemirror_mode": {
    "name": "ipython",
    "version": 3
   },
   "file_extension": ".py",
   "mimetype": "text/x-python",
   "name": "python",
   "nbconvert_exporter": "python",
   "pygments_lexer": "ipython3",
   "version": "3.8.20"
  }
 },
 "nbformat": 4,
 "nbformat_minor": 5
}
