{
 "cells": [
  {
   "cell_type": "markdown",
   "id": "f7609d40-5909-40e9-93f3-ebcc93f46cb3",
   "metadata": {},
   "source": [
    "# Course Lead Scoring - Evaluation\n",
    "\n",
    "## Load the data"
   ]
  },
  {
   "cell_type": "code",
   "execution_count": 1,
   "id": "390fd646-c9fd-4ac3-9c5d-ae43e3b7c759",
   "metadata": {},
   "outputs": [
    {
     "data": {
      "text/html": [
       "<div>\n",
       "<style scoped>\n",
       "    .dataframe tbody tr th:only-of-type {\n",
       "        vertical-align: middle;\n",
       "    }\n",
       "\n",
       "    .dataframe tbody tr th {\n",
       "        vertical-align: top;\n",
       "    }\n",
       "\n",
       "    .dataframe thead th {\n",
       "        text-align: right;\n",
       "    }\n",
       "</style>\n",
       "<table border=\"1\" class=\"dataframe\">\n",
       "  <thead>\n",
       "    <tr style=\"text-align: right;\">\n",
       "      <th></th>\n",
       "      <th>lead_source</th>\n",
       "      <th>industry</th>\n",
       "      <th>number_of_courses_viewed</th>\n",
       "      <th>annual_income</th>\n",
       "      <th>employment_status</th>\n",
       "      <th>location</th>\n",
       "      <th>interaction_count</th>\n",
       "      <th>lead_score</th>\n",
       "      <th>converted</th>\n",
       "    </tr>\n",
       "  </thead>\n",
       "  <tbody>\n",
       "    <tr>\n",
       "      <th>0</th>\n",
       "      <td>paid_ads</td>\n",
       "      <td>NaN</td>\n",
       "      <td>1</td>\n",
       "      <td>79450.0</td>\n",
       "      <td>unemployed</td>\n",
       "      <td>south_america</td>\n",
       "      <td>4</td>\n",
       "      <td>0.94</td>\n",
       "      <td>1</td>\n",
       "    </tr>\n",
       "    <tr>\n",
       "      <th>1</th>\n",
       "      <td>social_media</td>\n",
       "      <td>retail</td>\n",
       "      <td>1</td>\n",
       "      <td>46992.0</td>\n",
       "      <td>employed</td>\n",
       "      <td>south_america</td>\n",
       "      <td>1</td>\n",
       "      <td>0.80</td>\n",
       "      <td>0</td>\n",
       "    </tr>\n",
       "    <tr>\n",
       "      <th>2</th>\n",
       "      <td>events</td>\n",
       "      <td>healthcare</td>\n",
       "      <td>5</td>\n",
       "      <td>78796.0</td>\n",
       "      <td>unemployed</td>\n",
       "      <td>australia</td>\n",
       "      <td>3</td>\n",
       "      <td>0.69</td>\n",
       "      <td>1</td>\n",
       "    </tr>\n",
       "    <tr>\n",
       "      <th>3</th>\n",
       "      <td>paid_ads</td>\n",
       "      <td>retail</td>\n",
       "      <td>2</td>\n",
       "      <td>83843.0</td>\n",
       "      <td>NaN</td>\n",
       "      <td>australia</td>\n",
       "      <td>1</td>\n",
       "      <td>0.87</td>\n",
       "      <td>0</td>\n",
       "    </tr>\n",
       "    <tr>\n",
       "      <th>4</th>\n",
       "      <td>referral</td>\n",
       "      <td>education</td>\n",
       "      <td>3</td>\n",
       "      <td>85012.0</td>\n",
       "      <td>self_employed</td>\n",
       "      <td>europe</td>\n",
       "      <td>3</td>\n",
       "      <td>0.62</td>\n",
       "      <td>1</td>\n",
       "    </tr>\n",
       "  </tbody>\n",
       "</table>\n",
       "</div>"
      ],
      "text/plain": [
       "    lead_source    industry  number_of_courses_viewed  annual_income  \\\n",
       "0      paid_ads         NaN                         1        79450.0   \n",
       "1  social_media      retail                         1        46992.0   \n",
       "2        events  healthcare                         5        78796.0   \n",
       "3      paid_ads      retail                         2        83843.0   \n",
       "4      referral   education                         3        85012.0   \n",
       "\n",
       "  employment_status       location  interaction_count  lead_score  converted  \n",
       "0        unemployed  south_america                  4        0.94          1  \n",
       "1          employed  south_america                  1        0.80          0  \n",
       "2        unemployed      australia                  3        0.69          1  \n",
       "3               NaN      australia                  1        0.87          0  \n",
       "4     self_employed         europe                  3        0.62          1  "
      ]
     },
     "execution_count": 1,
     "metadata": {},
     "output_type": "execute_result"
    }
   ],
   "source": [
    "# Read dataset\n",
    "import numpy as np\n",
    "import pandas as pd\n",
    "import seaborn as sns\n",
    "from matplotlib import pyplot as plt\n",
    "%matplotlib inline\n",
    "from sklearn.model_selection import train_test_split\n",
    "from sklearn.feature_extraction import DictVectorizer\n",
    "from sklearn.linear_model import LogisticRegression\n",
    "from sklearn.metrics import roc_auc_score\n",
    "from sklearn.metrics import precision_score, recall_score\n",
    "from sklearn.metrics import f1_score\n",
    "from sklearn.model_selection import KFold\n",
    "\n",
    "data = 'course_lead_scoring.txt'\n",
    "df = pd.read_csv(data)\n",
    "df.head()"
   ]
  },
  {
   "cell_type": "markdown",
   "id": "a919a59a-a5ea-4acb-a911-af3b3dbbcd5d",
   "metadata": {},
   "source": [
    "## Data preparation\n",
    "- Check if the missing values are presented in the features.\n",
    "- If there are missing values:\n",
    "  - For caterogiral features, replace them with 'NA'\n",
    "  - For numerical features, replace with with 0.0\n",
    "\n",
    "Split the data into 3 parts: train/validation/test with 60%/20%/20% distribution. Use train_test_split function for that with random_state=1"
   ]
  },
  {
   "cell_type": "code",
   "execution_count": 2,
   "id": "c1afb723-c396-40c7-b7a3-5e16803b5e97",
   "metadata": {},
   "outputs": [
    {
     "data": {
      "text/plain": [
       "Index(['lead_source', 'industry', 'number_of_courses_viewed', 'annual_income',\n",
       "       'employment_status', 'location', 'interaction_count', 'lead_score',\n",
       "       'converted'],\n",
       "      dtype='object')"
      ]
     },
     "execution_count": 2,
     "metadata": {},
     "output_type": "execute_result"
    }
   ],
   "source": [
    "df.columns"
   ]
  },
  {
   "cell_type": "code",
   "execution_count": 3,
   "id": "2d0592ac-10a1-476b-97f3-17020d99701f",
   "metadata": {},
   "outputs": [
    {
     "data": {
      "text/plain": [
       "lead_source                 128\n",
       "industry                    134\n",
       "number_of_courses_viewed      0\n",
       "annual_income               181\n",
       "employment_status           100\n",
       "location                     63\n",
       "interaction_count             0\n",
       "lead_score                    0\n",
       "converted                     0\n",
       "dtype: int64"
      ]
     },
     "execution_count": 3,
     "metadata": {},
     "output_type": "execute_result"
    }
   ],
   "source": [
    "df.isnull().sum()"
   ]
  },
  {
   "cell_type": "code",
   "execution_count": 4,
   "id": "4091dd8b-ce96-4362-bbc0-d1ea8dfcec8a",
   "metadata": {},
   "outputs": [
    {
     "data": {
      "text/plain": [
       "lead_source                  object\n",
       "industry                     object\n",
       "number_of_courses_viewed      int64\n",
       "annual_income               float64\n",
       "employment_status            object\n",
       "location                     object\n",
       "interaction_count             int64\n",
       "lead_score                  float64\n",
       "converted                     int64\n",
       "dtype: object"
      ]
     },
     "execution_count": 4,
     "metadata": {},
     "output_type": "execute_result"
    }
   ],
   "source": [
    "df.dtypes"
   ]
  },
  {
   "cell_type": "code",
   "execution_count": 5,
   "id": "fbccf7ed-e925-45f8-ab44-61f9467bd7f1",
   "metadata": {},
   "outputs": [],
   "source": [
    "# Fill missing values\n",
    "for col in df.columns:\n",
    "    if df[col].dtype == 'object':\n",
    "        df[col] = df[col].fillna('NA')\n",
    "    else:\n",
    "        df[col] = df[col].fillna(0.0)"
   ]
  },
  {
   "cell_type": "code",
   "execution_count": 6,
   "id": "fb2434a0-f2c9-41ed-a95b-2efe89cfeacc",
   "metadata": {},
   "outputs": [
    {
     "data": {
      "text/html": [
       "<div>\n",
       "<style scoped>\n",
       "    .dataframe tbody tr th:only-of-type {\n",
       "        vertical-align: middle;\n",
       "    }\n",
       "\n",
       "    .dataframe tbody tr th {\n",
       "        vertical-align: top;\n",
       "    }\n",
       "\n",
       "    .dataframe thead th {\n",
       "        text-align: right;\n",
       "    }\n",
       "</style>\n",
       "<table border=\"1\" class=\"dataframe\">\n",
       "  <thead>\n",
       "    <tr style=\"text-align: right;\">\n",
       "      <th></th>\n",
       "      <th>lead_source</th>\n",
       "      <th>industry</th>\n",
       "      <th>number_of_courses_viewed</th>\n",
       "      <th>annual_income</th>\n",
       "      <th>employment_status</th>\n",
       "      <th>location</th>\n",
       "      <th>interaction_count</th>\n",
       "      <th>lead_score</th>\n",
       "    </tr>\n",
       "  </thead>\n",
       "  <tbody>\n",
       "    <tr>\n",
       "      <th>462</th>\n",
       "      <td>events</td>\n",
       "      <td>manufacturing</td>\n",
       "      <td>2</td>\n",
       "      <td>95543.0</td>\n",
       "      <td>unemployed</td>\n",
       "      <td>europe</td>\n",
       "      <td>3</td>\n",
       "      <td>0.78</td>\n",
       "    </tr>\n",
       "    <tr>\n",
       "      <th>135</th>\n",
       "      <td>referral</td>\n",
       "      <td>NA</td>\n",
       "      <td>1</td>\n",
       "      <td>54924.0</td>\n",
       "      <td>student</td>\n",
       "      <td>south_america</td>\n",
       "      <td>6</td>\n",
       "      <td>0.39</td>\n",
       "    </tr>\n",
       "    <tr>\n",
       "      <th>117</th>\n",
       "      <td>organic_search</td>\n",
       "      <td>healthcare</td>\n",
       "      <td>2</td>\n",
       "      <td>77352.0</td>\n",
       "      <td>unemployed</td>\n",
       "      <td>europe</td>\n",
       "      <td>2</td>\n",
       "      <td>0.22</td>\n",
       "    </tr>\n",
       "    <tr>\n",
       "      <th>1051</th>\n",
       "      <td>paid_ads</td>\n",
       "      <td>other</td>\n",
       "      <td>2</td>\n",
       "      <td>34600.0</td>\n",
       "      <td>employed</td>\n",
       "      <td>south_america</td>\n",
       "      <td>2</td>\n",
       "      <td>0.31</td>\n",
       "    </tr>\n",
       "    <tr>\n",
       "      <th>945</th>\n",
       "      <td>paid_ads</td>\n",
       "      <td>education</td>\n",
       "      <td>0</td>\n",
       "      <td>43615.0</td>\n",
       "      <td>unemployed</td>\n",
       "      <td>south_america</td>\n",
       "      <td>2</td>\n",
       "      <td>0.01</td>\n",
       "    </tr>\n",
       "  </tbody>\n",
       "</table>\n",
       "</div>"
      ],
      "text/plain": [
       "         lead_source       industry  number_of_courses_viewed  annual_income  \\\n",
       "462           events  manufacturing                         2        95543.0   \n",
       "135         referral             NA                         1        54924.0   \n",
       "117   organic_search     healthcare                         2        77352.0   \n",
       "1051        paid_ads          other                         2        34600.0   \n",
       "945         paid_ads      education                         0        43615.0   \n",
       "\n",
       "     employment_status       location  interaction_count  lead_score  \n",
       "462         unemployed         europe                  3        0.78  \n",
       "135            student  south_america                  6        0.39  \n",
       "117         unemployed         europe                  2        0.22  \n",
       "1051          employed  south_america                  2        0.31  \n",
       "945         unemployed  south_america                  2        0.01  "
      ]
     },
     "execution_count": 6,
     "metadata": {},
     "output_type": "execute_result"
    }
   ],
   "source": [
    "# Split data into train/validation/test sets\n",
    "df_train_full, df_test = train_test_split(df, test_size=0.2, random_state=1)\n",
    "df_train, df_val = train_test_split(df_train_full, test_size=0.25, random_state=1)  # 0.25 x 0.8 = 0.2\n",
    "\n",
    "y_train = df_train['converted'].values\n",
    "y_val = df_val['converted'].values\n",
    "y_test = df_test['converted'].values\n",
    "\n",
    "del df_train['converted']\n",
    "del df_val['converted']\n",
    "del df_test['converted']\n",
    "\n",
    "df_train.head()"
   ]
  },
  {
   "cell_type": "markdown",
   "id": "20ea8851-9bf0-4d9c-8bbd-d77b8e4c3a7c",
   "metadata": {},
   "source": [
    "### Question 1: ROC AUC feature importance\n",
    "ROC AUC could also be used to evaluate feature importance of numerical variables.\n",
    "\n",
    "Let's do that\n",
    "- For each numerical variable, use it as score (aka prediction) and compute the AUC with the y variable as ground truth.\n",
    "- Use the training dataset for that\n",
    "\n",
    "If your AUC is < 0.5, invert this variable by putting \"-\" in front\n",
    "\n",
    "(e.g. -df_train['balance'])\n",
    "\n",
    "AUC can go below 0.5 if the variable is negatively correlated with the target variable. You can change the direction of the correlation by negating this variable - then negative correlation becomes positive.\n",
    "\n",
    "Which numerical variable (among the following 4) has the highest AUC?\n",
    "- lead_score\n",
    "- number_of_courses_viewed\n",
    "- interaction_count\n",
    "- annual_income"
   ]
  },
  {
   "cell_type": "code",
   "execution_count": 7,
   "id": "e590c617-4cf1-4e02-bb1b-6a3599c7c5f6",
   "metadata": {},
   "outputs": [
    {
     "data": {
      "text/plain": [
       "{'lead_score': 0.614,\n",
       " 'number_of_courses_viewed': 0.764,\n",
       " 'interaction_count': 0.738,\n",
       " 'annual_income': 0.552}"
      ]
     },
     "execution_count": 7,
     "metadata": {},
     "output_type": "execute_result"
    }
   ],
   "source": [
    "# List of numerical columns\n",
    "num_cols = ['lead_score', 'number_of_courses_viewed', 'interaction_count', 'annual_income']\n",
    "auc_scores = {}\n",
    "\n",
    "for col in num_cols:\n",
    "    score = df_train[col].values\n",
    "    auc = roc_auc_score(y_train, score)\n",
    "    # If AUC < 0.5, invert the variable\n",
    "    if auc < 0.5:\n",
    "        auc = roc_auc_score(y_train, -score)\n",
    "    auc_scores[col] = round(auc, 3)\n",
    "auc_scores"
   ]
  },
  {
   "cell_type": "markdown",
   "id": "45434016-6b64-4ac0-ae59-6e979b03a9d2",
   "metadata": {},
   "source": [
    "### Question 2: Training the model\n",
    "Apply one-hot-encoding using DictVectorizer and train the logistic regression with these parameters:\n",
    "\n",
    "`LogisticRegression(solver='liblinear', C=1.0, max_iter=1000)`\n",
    "\n",
    "What's the AUC of this model on the validation dataset? (round to 3 digits)\n",
    "- 0.32\n",
    "- 0.52\n",
    "- 0.72\n",
    "- 0.92"
   ]
  },
  {
   "cell_type": "code",
   "execution_count": 8,
   "id": "b04c4862-1b04-4b6c-b629-04e54633097c",
   "metadata": {},
   "outputs": [
    {
     "data": {
      "text/plain": [
       "array(['employment_status=NA', 'employment_status=employed',\n",
       "       'employment_status=self_employed', 'employment_status=student',\n",
       "       'employment_status=unemployed', 'industry=NA',\n",
       "       'industry=education', 'industry=finance', 'industry=healthcare',\n",
       "       'industry=manufacturing', 'industry=other', 'industry=retail',\n",
       "       'industry=technology', 'lead_source=NA', 'lead_source=events',\n",
       "       'lead_source=organic_search', 'lead_source=paid_ads',\n",
       "       'lead_source=referral', 'lead_source=social_media', 'location=NA',\n",
       "       'location=africa', 'location=asia', 'location=australia',\n",
       "       'location=europe', 'location=middle_east',\n",
       "       'location=north_america', 'location=south_america'], dtype=object)"
      ]
     },
     "execution_count": 8,
     "metadata": {},
     "output_type": "execute_result"
    }
   ],
   "source": [
    "features = ['lead_source', 'industry', 'employment_status', 'location']\n",
    "# features = ['lead_source', 'industry', 'number_of_courses_viewed', 'annual_income',\n",
    "#        'employment_status', 'location', 'interaction_count', 'lead_score']\n",
    "\n",
    "dv = DictVectorizer(sparse=False)\n",
    "X_train = dv.fit_transform(df_train[features].to_dict(orient='records'))\n",
    "X_val = dv.transform(df_val[features].to_dict(orient='records'))\n",
    "dv.fit(df_train[features].to_dict(orient='records'))\n",
    "dv.get_feature_names_out()"
   ]
  },
  {
   "cell_type": "code",
   "execution_count": 9,
   "id": "5d871c20-f9c3-4bae-b56f-acb87950c1f9",
   "metadata": {},
   "outputs": [
    {
     "name": "stdout",
     "output_type": "stream",
     "text": [
      "Validation AUC: 0.634\n"
     ]
    }
   ],
   "source": [
    "# Train logistic regression\n",
    "model = LogisticRegression(solver='liblinear', C=1.0, max_iter=1000, random_state=1)\n",
    "model.fit(X_train, y_train)\n",
    "\n",
    "# Predict probabilities and compute AUC\n",
    "y_val_pred = model.predict_proba(X_val)[:,1]\n",
    "auc = roc_auc_score(y_val, y_val_pred)\n",
    "print(\"Validation AUC:\", round(auc, 3))"
   ]
  },
  {
   "cell_type": "markdown",
   "id": "7c69a672-b68a-418e-b4a9-06f806580ed3",
   "metadata": {},
   "source": [
    "### Question 3: Precision and Recall\n",
    "Now let's compute precision and recall for our model.\n",
    "- Evaluate the model on all thresholds from 0.0 to 1.0 with step 0.01\n",
    "- For each threshold, compute precision and recall\n",
    "- Plot them\n",
    "\n",
    "At which threshold precision and recall curves intersect?\n",
    "- 0.145\n",
    "- 0.345\n",
    "- 0.545\n",
    "- 0.745"
   ]
  },
  {
   "cell_type": "code",
   "execution_count": 10,
   "id": "75ae683f-1934-42a7-80db-f02fb35df0dc",
   "metadata": {},
   "outputs": [
    {
     "name": "stderr",
     "output_type": "stream",
     "text": [
      "C:\\Users\\My Pham\\anaconda3\\lib\\site-packages\\sklearn\\metrics\\_classification.py:1469: UndefinedMetricWarning: Precision is ill-defined and being set to 0.0 due to no predicted samples. Use `zero_division` parameter to control this behavior.\n",
      "  _warn_prf(average, modifier, msg_start, len(result))\n",
      "C:\\Users\\My Pham\\anaconda3\\lib\\site-packages\\sklearn\\metrics\\_classification.py:1469: UndefinedMetricWarning: Precision is ill-defined and being set to 0.0 due to no predicted samples. Use `zero_division` parameter to control this behavior.\n",
      "  _warn_prf(average, modifier, msg_start, len(result))\n",
      "C:\\Users\\My Pham\\anaconda3\\lib\\site-packages\\sklearn\\metrics\\_classification.py:1469: UndefinedMetricWarning: Precision is ill-defined and being set to 0.0 due to no predicted samples. Use `zero_division` parameter to control this behavior.\n",
      "  _warn_prf(average, modifier, msg_start, len(result))\n",
      "C:\\Users\\My Pham\\anaconda3\\lib\\site-packages\\sklearn\\metrics\\_classification.py:1469: UndefinedMetricWarning: Precision is ill-defined and being set to 0.0 due to no predicted samples. Use `zero_division` parameter to control this behavior.\n",
      "  _warn_prf(average, modifier, msg_start, len(result))\n",
      "C:\\Users\\My Pham\\anaconda3\\lib\\site-packages\\sklearn\\metrics\\_classification.py:1469: UndefinedMetricWarning: Precision is ill-defined and being set to 0.0 due to no predicted samples. Use `zero_division` parameter to control this behavior.\n",
      "  _warn_prf(average, modifier, msg_start, len(result))\n",
      "C:\\Users\\My Pham\\anaconda3\\lib\\site-packages\\sklearn\\metrics\\_classification.py:1469: UndefinedMetricWarning: Precision is ill-defined and being set to 0.0 due to no predicted samples. Use `zero_division` parameter to control this behavior.\n",
      "  _warn_prf(average, modifier, msg_start, len(result))\n",
      "C:\\Users\\My Pham\\anaconda3\\lib\\site-packages\\sklearn\\metrics\\_classification.py:1469: UndefinedMetricWarning: Precision is ill-defined and being set to 0.0 due to no predicted samples. Use `zero_division` parameter to control this behavior.\n",
      "  _warn_prf(average, modifier, msg_start, len(result))\n",
      "C:\\Users\\My Pham\\anaconda3\\lib\\site-packages\\sklearn\\metrics\\_classification.py:1469: UndefinedMetricWarning: Precision is ill-defined and being set to 0.0 due to no predicted samples. Use `zero_division` parameter to control this behavior.\n",
      "  _warn_prf(average, modifier, msg_start, len(result))\n",
      "C:\\Users\\My Pham\\anaconda3\\lib\\site-packages\\sklearn\\metrics\\_classification.py:1469: UndefinedMetricWarning: Precision is ill-defined and being set to 0.0 due to no predicted samples. Use `zero_division` parameter to control this behavior.\n",
      "  _warn_prf(average, modifier, msg_start, len(result))\n"
     ]
    },
    {
     "data": {
      "image/png": "[encoded data removed]",
      "text/plain": [
       "<Figure size 640x480 with 1 Axes>"
      ]
     },
     "metadata": {},
     "output_type": "display_data"
    },
    {
     "name": "stdout",
     "output_type": "stream",
     "text": [
      "Intersection threshold: 0.59\n"
     ]
    }
   ],
   "source": [
    "# probabilities for the positive class\n",
    "y_val_pred_proba = model.predict_proba(X_val)[:, 1]  \n",
    "\n",
    "thresholds = np.arange(0, 1.01, 0.01)\n",
    "precisions = []\n",
    "recalls = []\n",
    "\n",
    "for t in thresholds:\n",
    "    y_pred = (y_val_pred_proba >= t).astype(int)\n",
    "    precisions.append(precision_score(y_val, y_pred))\n",
    "    recalls.append(recall_score(y_val, y_pred))\n",
    "\n",
    "# Plot\n",
    "plt.plot(thresholds, precisions, label='Precision')\n",
    "plt.plot(thresholds, recalls, label='Recall')\n",
    "plt.xlabel('Threshold')\n",
    "plt.ylabel('Score')\n",
    "plt.legend()\n",
    "plt.show()\n",
    "\n",
    "# Find threshold where precision ≈ recall\n",
    "diff = np.abs(np.array(precisions) - np.array(recalls))\n",
    "threshold_intersect = thresholds[np.argmin(diff)]\n",
    "print(\"Intersection threshold:\", threshold_intersect)"
   ]
  },
  {
   "cell_type": "markdown",
   "id": "64287032-1e3e-4fa0-8687-6c554dd88e7b",
   "metadata": {},
   "source": [
    "### Question 4: F1 score\n",
    "\n",
    "Precision and recall are conflicting - when one grows, the other goes down. That's why they are often combined into the F1 score - a metrics that takes into account both\n",
    "\n",
    "This is the formula for computing F1:\n",
    "$$\n",
    "F_1 = \\frac{2 \\cdot P \\cdot R}{P + R}\n",
    "$$\n",
    "Where P is precision and R is recall.\n",
    "\n",
    "Let's compute F1 for all thresholds from 0.0 to 1.0 with increment 0.01\n",
    "\n",
    "At which threshold F1 is maximal?\n",
    "- 0.14\n",
    "- 0.34\n",
    "- 0.54\n",
    "- 0.74"
   ]
  },
  {
   "cell_type": "code",
   "execution_count": 11,
   "id": "656fa377-1407-415c-980e-7d4ecf15dc29",
   "metadata": {},
   "outputs": [
    {
     "name": "stdout",
     "output_type": "stream",
     "text": [
      "Best threshold: 0.39\n",
      "Max F1 score: 0.7471526195899773\n"
     ]
    }
   ],
   "source": [
    "thresholds = np.arange(0.0, 1.01, 0.01)\n",
    "f1_scores = []\n",
    "\n",
    "for t in thresholds:\n",
    "    y_pred = (y_val_pred_proba >= t).astype(int)\n",
    "    f1_scores.append(f1_score(y_val, y_pred))\n",
    "\n",
    "best_idx = np.argmax(f1_scores)\n",
    "best_threshold = thresholds[best_idx]\n",
    "best_f1 = f1_scores[best_idx]\n",
    "\n",
    "print(\"Best threshold:\", best_threshold)\n",
    "print(\"Max F1 score:\", best_f1)"
   ]
  },
  {
   "cell_type": "markdown",
   "id": "aaa4475d-3bdf-447f-84d5-7aae67c38485",
   "metadata": {},
   "source": [
    "### Question 5: 5-Fold CV\n",
    "Use the KFold class from Scikit-Learn to evaluate our model on 5 different folds:\n",
    "\n",
    "`KFold(n_splits=5, shuffle=True, random_state=1)`\n",
    "\n",
    "- Iterate over different folds of df_full_train\n",
    "- Split the data into train and validation\n",
    "- Train the model on train with these parameters: LogisticRegression(solver='liblinear', C=1.0, max_iter=1000)\n",
    "- Use AUC to evaluate the model on validation\n",
    "\n",
    "How large is standard deviation of the scores across different folds?\n",
    "- 0.0001\n",
    "- 0.006\n",
    "- 0.06\n",
    "- 0.36"
   ]
  },
  {
   "cell_type": "code",
   "execution_count": 12,
   "id": "105b7609-1eb3-4808-a74d-60a64008b632",
   "metadata": {},
   "outputs": [
    {
     "name": "stdout",
     "output_type": "stream",
     "text": [
      "Standard deviation of AUC: 0.036\n"
     ]
    }
   ],
   "source": [
    "df_full_train = df_train_full.reset_index(drop=True)\n",
    "y_full_train = df_full_train['converted'].values\n",
    "df_full_train = df_full_train.drop(columns=['converted'])\n",
    "\n",
    "kf = KFold(n_splits=5, shuffle=True, random_state=1)\n",
    "auc_scores = []\n",
    "\n",
    "for train_idx, val_idx in kf.split(df_full_train):\n",
    "    df_train = df_full_train.iloc[train_idx]\n",
    "    df_val = df_full_train.iloc[val_idx]\n",
    "    y_train = y_full_train[train_idx]\n",
    "    y_val = y_full_train[val_idx]\n",
    "    \n",
    "    # One-hot encoding\n",
    "    dv = DictVectorizer(sparse=False)\n",
    "    X_train = dv.fit_transform(df_train.to_dict(orient='records'))\n",
    "    X_val = dv.transform(df_val.to_dict(orient='records'))\n",
    "    \n",
    "    # Train logistic regression\n",
    "    model = LogisticRegression(solver='liblinear', C=1.0, max_iter=1000)\n",
    "    model.fit(X_train, y_train)\n",
    "    \n",
    "    # Predict probabilities and compute AUC\n",
    "    y_val_pred_proba = model.predict_proba(X_val)[:, 1]\n",
    "    auc = roc_auc_score(y_val, y_val_pred_proba)\n",
    "    auc_scores.append(auc)\n",
    "\n",
    "# Standard deviation of AUC across folds\n",
    "std_auc = np.std(auc_scores)\n",
    "print(\"Standard deviation of AUC:\", round(std_auc, 3))"
   ]
  },
  {
   "cell_type": "markdown",
   "id": "abf0fb0c-6d67-4727-a39d-de29c4160dbd",
   "metadata": {},
   "source": [
    "### Question 6: Hyperparameter Tuning\n",
    "Now let's use 5-Fold cross-validation to find the best parameter C\n",
    "- Iterate over the following C values: [0.000001, 0.001, 1]\n",
    "- Initialize KFold with the same parameters as previously\n",
    "- Use these parameters for the model: LogisticRegression(solver='liblinear', C=C, max_iter=1000)\n",
    "- Compute the mean score as well as the std (round the mean and std to 3 decimal digits)\n",
    "\n",
    "Which C leads to the best mean score?\n",
    "- 0.000001\n",
    "- 0.001\n",
    "- 1\n",
    "\n",
    "If you have ties, select the score with the lowest std. If you still have ties, select the smallest C."
   ]
  },
  {
   "cell_type": "code",
   "execution_count": 14,
   "id": "c503a18a-2afd-4119-b2c8-795192ce908b",
   "metadata": {},
   "outputs": [
    {
     "name": "stdout",
     "output_type": "stream",
     "text": [
      "C=1e-06: mean AUC=0.56, std=0.024\n",
      "C=0.001: mean AUC=0.867, std=0.029\n",
      "C=1: mean AUC=0.822, std=0.036\n",
      "Best C with highest mean score: 0.001\n"
     ]
    }
   ],
   "source": [
    "C_values = [0.000001, 0.001, 1]\n",
    "kf = KFold(n_splits=5, shuffle=True, random_state=1)\n",
    "\n",
    "results = {}\n",
    "\n",
    "for C in C_values:\n",
    "    auc_scores = []\n",
    "    \n",
    "    for train_idx, val_idx in kf.split(df_full_train):\n",
    "        df_train = df_full_train.iloc[train_idx]\n",
    "        df_val = df_full_train.iloc[val_idx]\n",
    "        y_train = y_full_train[train_idx]\n",
    "        y_val = y_full_train[val_idx]\n",
    "\n",
    "        # One-hot encoding\n",
    "        dv = DictVectorizer(sparse=False)\n",
    "        X_train = dv.fit_transform(df_train.to_dict(orient='records'))\n",
    "        X_val = dv.transform(df_val.to_dict(orient='records'))\n",
    "\n",
    "        # Train logistic regression with given C\n",
    "        model = LogisticRegression(solver='liblinear', C=C, max_iter=1000)\n",
    "        model.fit(X_train, y_train)\n",
    "        \n",
    "        y_val_pred_proba = model.predict_proba(X_val)[:, 1]\n",
    "        auc_scores.append(roc_auc_score(y_val, y_val_pred_proba))\n",
    "    \n",
    "    results[C] = (round(np.mean(auc_scores), 3), round(np.std(auc_scores), 3))\n",
    "\n",
    "# Show results\n",
    "for C, (mean_auc, std_auc) in results.items():\n",
    "    print(f\"C={C}: mean AUC={mean_auc}, std={std_auc}\")\n",
    "\n",
    "# Select the best C\n",
    "best_C = min(\n",
    "    [C for C, (mean_auc, std_auc) in results.items() if mean_auc == max(r[0] for r in results.values())],\n",
    "    key=lambda C: results[C][1]  \n",
    ")\n",
    "print(\"Best C with highest mean score:\", best_C)"
   ]
  },
  {
   "cell_type": "code",
   "execution_count": null,
   "id": "f96df26e-f9d2-4589-87fd-b6ad31af6544",
   "metadata": {},
   "outputs": [],
   "source": []
  }
 ],
 "metadata": {
  "kernelspec": {
   "display_name": "Python 3 (ipykernel)",
   "language": "python",
   "name": "python3"
  },
  "language_info": {
   "codemirror_mode": {
    "name": "ipython",
    "version": 3
   },
   "file_extension": ".py",
   "mimetype": "text/x-python",
   "name": "python",
   "nbconvert_exporter": "python",
   "pygments_lexer": "ipython3",
   "version": "3.8.20"
  }
 },
 "nbformat": 4,
 "nbformat_minor": 5
}
